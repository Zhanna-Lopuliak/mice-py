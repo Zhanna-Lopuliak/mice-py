{
  "cells": [
    {
      "cell_type": "markdown",
      "metadata": {},
      "source": [
        "# Complete Analysis Workflow: Impute, Fit, and Pool\n",
        "\n",
        "This notebook demonstrates the complete workflow for statistical analysis with multiple imputation.\n",
        "\n",
        "## Overview\n",
        "\n",
        "Multiple imputation is not just about filling in missing values - it's about properly accounting for uncertainty in statistical inference. This notebook covers:\n",
        "\n",
        "1. Imputing missing data\n",
        "2. Fitting statistical models to each imputed dataset\n",
        "3. Pooling results using Rubin's rules\n",
        "4. Interpreting pooled estimates \n"
      ]
    },
    {
      "cell_type": "markdown",
      "metadata": {},
      "source": [
        "## 1. Import Libraries and Load Data\n"
      ]
    },
    {
      "cell_type": "code",
      "execution_count": 182,
      "metadata": {},
      "outputs": [
        {
          "name": "stdout",
          "output_type": "stream",
          "text": [
            "Dataset shape: (25, 4)\n",
            "\n",
            "First few rows:\n",
            "   age   bmi  hyp    chl\n",
            "0    1   NaN  NaN    NaN\n",
            "1    2  22.7  1.0  187.0\n",
            "2    1   NaN  1.0  187.0\n",
            "3    3   NaN  NaN    NaN\n",
            "4    1  20.4  1.0  113.0\n",
            "\n",
            "Missing values:\n",
            "age     0\n",
            "bmi     9\n",
            "hyp     8\n",
            "chl    10\n",
            "dtype: int64\n"
          ]
        }
      ],
      "source": [
        "import pandas as pd\n",
        "import numpy as np\n",
        "import sys\n",
        "sys.path.append('..')\n",
        "\n",
        "from imputation.MICE import MICE\n",
        "import statsmodels.api as sm\n",
        "import statsmodels.formula.api as smf\n",
        "\n",
        "# Load NHANES dataset\n",
        "df = pd.read_csv('data/nhanes.csv')\n",
        "print(\"Dataset shape:\", df.shape)\n",
        "print(\"\\nFirst few rows:\")\n",
        "print(df.head())\n",
        "print(\"\\nMissing values:\")\n",
        "print(df.isnull().sum())\n"
      ]
    },
    {
      "cell_type": "markdown",
      "metadata": {},
      "source": [
        "## 2. Step 1: Impute Missing Data\n",
        "\n",
        "First, we perform multiple imputation to create complete datasets.\n"
      ]
    },
    {
      "cell_type": "code",
      "execution_count": 183,
      "metadata": {},
      "outputs": [
        {
          "name": "stdout",
          "output_type": "stream",
          "text": [
            "Created 10 imputed datasets\n",
            "Each dataset has shape: (25, 4)\n"
          ]
        }
      ],
      "source": [
        "# Initialize MICE and perform imputation\n",
        "mice = MICE(df)\n",
        "mice.impute(\n",
        "    n_imputations=10,  # Use 10 imputations for stable inference\n",
        "    maxit=10,\n",
        "    method='pmm'       # PMM is good for continuous variables\n",
        ")\n",
        "\n",
        "print(f\"Created {len(mice.imputed_datasets)} imputed datasets\")\n",
        "print(f\"Each dataset has shape: {mice.imputed_datasets[0].shape}\")\n"
      ]
    },
    {
      "cell_type": "markdown",
      "metadata": {},
      "source": [
        "## 3. Step 2: Fit Statistical Model\n",
        "\n",
        "Now we fit a regression model to each imputed dataset. We'll model BMI as a function of age, hypertension status, and cholesterol.\n",
        "\n",
        "The formula syntax follows statsmodels/R conventions: `outcome ~ predictor1 + predictor2 + ...`\n"
      ]
    },
    {
      "cell_type": "code",
      "execution_count": 184,
      "metadata": {},
      "outputs": [
        {
          "name": "stdout",
          "output_type": "stream",
          "text": [
            "Fitted model to 10 datasets\n",
            "\n",
            "Example: Results from first imputed dataset:\n",
            "                            OLS Regression Results                            \n",
            "==============================================================================\n",
            "Dep. Variable:                    bmi   R-squared:                       0.414\n",
            "Model:                            OLS   Adj. R-squared:                  0.330\n",
            "Method:                 Least Squares   F-statistic:                     4.937\n",
            "Date:                Sun, 19 Oct 2025   Prob (F-statistic):            0.00949\n",
            "Time:                        17:30:37   Log-Likelihood:                -64.625\n",
            "No. Observations:                  25   AIC:                             137.3\n",
            "Df Residuals:                      21   BIC:                             142.1\n",
            "Df Model:                           3                                         \n",
            "Covariance Type:            nonrobust                                         \n",
            "==============================================================================\n",
            "                 coef    std err          t      P>|t|      [0.025      0.975]\n",
            "------------------------------------------------------------------------------\n",
            "Intercept     22.1053      3.495      6.325      0.000      14.838      29.373\n",
            "age           -3.6705      1.112     -3.301      0.003      -5.983      -1.358\n",
            "hyp            4.3128      2.028      2.126      0.045       0.095       8.531\n",
            "chl            0.0344      0.014      2.453      0.023       0.005       0.063\n",
            "==============================================================================\n",
            "Omnibus:                        0.122   Durbin-Watson:                   2.002\n",
            "Prob(Omnibus):                  0.941   Jarque-Bera (JB):                0.315\n",
            "Skew:                           0.115   Prob(JB):                        0.854\n",
            "Kurtosis:                       2.501   Cond. No.                     1.01e+03\n",
            "==============================================================================\n",
            "\n",
            "Notes:\n",
            "[1] Standard Errors assume that the covariance matrix of the errors is correctly specified.\n",
            "[2] The condition number is large, 1.01e+03. This might indicate that there are\n",
            "strong multicollinearity or other numerical problems.\n"
          ]
        }
      ],
      "source": [
        "# Fit regression model: BMI ~ age + hyp + chl\n",
        "formula = 'bmi ~ age + hyp + chl'\n",
        "mice.fit(formula)\n",
        "\n",
        "print(f\"Fitted model to {len(mice.model_results)} datasets\")\n",
        "print(f\"\\nExample: Results from first imputed dataset:\")\n",
        "print(mice.model_results[0].summary())\n"
      ]
    },
    {
      "cell_type": "markdown",
      "metadata": {},
      "source": [
        "## 4. Step 3: Pool Results Using Rubin's Rules\n",
        "\n",
        "Pooling combines estimates from all imputed datasets while properly accounting for uncertainty.\n"
      ]
    },
    {
      "cell_type": "code",
      "execution_count": 185,
      "metadata": {},
      "outputs": [
        {
          "name": "stdout",
          "output_type": "stream",
          "text": [
            "Pooled Results:\n",
            "============================================================\n",
            "\n",
            "Parameter estimates:\n",
            "Intercept   : estimate=22.5586, SE= 5.0247, FMI=0.369\n",
            "age         : estimate=-2.5717, SE= 1.3975, FMI=0.334\n",
            "hyp         : estimate= 1.8681, SE= 2.7983, FMI=0.398\n",
            "chl         : estimate= 0.0322, SE= 0.0269, FMI=0.497\n"
          ]
        }
      ],
      "source": [
        "# Pool results\n",
        "pooled_results = mice.pool()\n",
        "\n",
        "print(\"Pooled Results:\")\n",
        "print(\"=\"*60)\n",
        "print(f\"\\nParameter estimates:\")\n",
        "for i, param_name in enumerate(pooled_results['parameter_names']):\n",
        "    estimate = pooled_results['pooled_params'][i]\n",
        "    se = np.sqrt(pooled_results['pooled_covariance'][i, i])\n",
        "    fmi = pooled_results['fraction_missing_info'][i]\n",
        "    print(f\"{param_name:12s}: estimate={estimate:7.4f}, SE={se:7.4f}, FMI={fmi:5.3f}\")\n"
      ]
    },
    {
      "cell_type": "code",
      "execution_count": 186,
      "metadata": {},
      "outputs": [
        {
          "name": "stdout",
          "output_type": "stream",
          "text": [
            "\n",
            "Pooled Summary Table:\n",
            "                         Results: MICE\n",
            "================================================================\n",
            "Dependent variable:            bmi          Scale          15.30\n",
            "Sample size:                   25           M              10   \n",
            "----------------------------------------------------------------\n",
            "           Coef.  Std.Err.    t    P>|t|   [0.025  0.975]  FMI  \n",
            "----------------------------------------------------------------\n",
            "Intercept 22.5586   5.0247  4.4896 0.0000 12.7105 32.4067 0.3692\n",
            "age       -2.5717   1.3975 -1.8402 0.0657 -5.3108  0.1674 0.3342\n",
            "hyp        1.8681   2.7983  0.6676 0.5044 -3.6164  7.3527 0.3978\n",
            "chl        0.0322   0.0269  1.1984 0.2308 -0.0205  0.0848 0.4972\n",
            "================================================================\n",
            "\n"
          ]
        }
      ],
      "source": [
        "# Get summary table\n",
        "summary = mice.pool(summ=True)\n",
        "print(\"\\nPooled Summary Table:\")\n",
        "print(summary)\n"
      ]
    },
    {
      "cell_type": "markdown",
      "metadata": {},
      "source": [
        "## Summary\n",
        "\n",
        "In this notebook, we completed the full analysis workflow:\n",
        "\n",
        "1. **Imputed** missing data using MICE\n",
        "2. **Fitted** regression models using `.fit(formula)`\n",
        "3. **Pooled** results using `.pool()` with Rubin's rules\n",
        "4. **Interpreted** pooled estimates and FMI from the summary table\n",
        "\n",
        "**Key takeaways**:\n",
        "- Multiple imputation properly accounts for uncertainty from missing data\n",
        "- The `.fit()` and `.pool()` methods provide a complete workflow for statistical inference\n",
        "- Pooled results include parameter estimates, standard errors, confidence intervals, and FMI\n",
        "\n",
        "**Next steps**:\n",
        "- See `05_diagnostic_plots.ipynb` for visual assessment of imputation quality\n",
        "- See `03_advanced_parameters.ipynb` for tuning imputation parameters\n",
        "- See `02_imputation_methods.ipynb` for comparing different imputation methods\n"
      ]
    },
    {
      "cell_type": "markdown",
      "metadata": {},
      "source": []
    }
  ],
  "metadata": {
    "kernelspec": {
      "display_name": "Python (mice-py)",
      "language": "python",
      "name": "mice-py"
    },
    "language_info": {
      "codemirror_mode": {
        "name": "ipython",
        "version": 3
      },
      "file_extension": ".py",
      "mimetype": "text/x-python",
      "name": "python",
      "nbconvert_exporter": "python",
      "pygments_lexer": "ipython3",
      "version": "3.9.6"
    }
  },
  "nbformat": 4,
  "nbformat_minor": 2
}
